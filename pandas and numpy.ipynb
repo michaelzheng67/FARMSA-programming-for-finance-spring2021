{
 "cells": [
  {
   "cell_type": "code",
   "execution_count": 1,
   "metadata": {},
   "outputs": [
    {
     "name": "stdout",
     "output_type": "stream",
     "text": [
      "             Revenue     Earnings\n",
      "Quarter                          \n",
      "2Q2020   38033000000  11202000000\n",
      "3Q2020   37154000000  13893000000\n",
      "4Q2020   43076000000  15463000000\n",
      "1Q2021   41706000000  15457000000\n",
      "<class 'pandas.core.frame.DataFrame'>\n"
     ]
    }
   ],
   "source": [
    "# Using Yahoo Finance and Pandas \n",
    "\n",
    "# Here, we import Microsoft's data and display a dataframe of the \n",
    "# company's quarterly earnings\n",
    "import yfinance as yf\n",
    "msft = yf.Ticker(\"MSFT\")\n",
    "earnings = msft.quarterly_earnings\n",
    "print(earnings)\n",
    "print(type(earnings))"
   ]
  },
  {
   "cell_type": "code",
   "execution_count": 2,
   "metadata": {},
   "outputs": [
    {
     "data": {
      "text/plain": [
       "41706000000"
      ]
     },
     "execution_count": 2,
     "metadata": {},
     "output_type": "execute_result"
    }
   ],
   "source": [
    "# Taking the third index of the Revenue column (remember index count\n",
    "# starts at 0)\n",
    "earnings[\"Revenue\"][3]"
   ]
  },
  {
   "cell_type": "code",
   "execution_count": 3,
   "metadata": {},
   "outputs": [
    {
     "name": "stdout",
     "output_type": "stream",
     "text": [
      "Revenue     38033000000\n",
      "Earnings    11202000000\n",
      "Name: 2Q2020, dtype: int64\n",
      "             Revenue     Earnings\n",
      "Quarter                          \n",
      "3Q2020   37154000000  13893000000\n",
      "4Q2020   43076000000  15463000000\n"
     ]
    }
   ],
   "source": [
    "# Using pandas methods to get row at index location\n",
    "print(earnings.iloc[0])\n",
    "print(earnings.iloc[1:3])"
   ]
  },
  {
   "cell_type": "code",
   "execution_count": 4,
   "metadata": {},
   "outputs": [
    {
     "name": "stdout",
     "output_type": "stream",
     "text": [
      "             Revenue     Earnings\n",
      "Quarter                          \n",
      "4Q2020   43076000000  15463000000\n",
      "1Q2021   41706000000  15457000000\n"
     ]
    }
   ],
   "source": [
    "# Using logic, we can grab the data which matches the statement \n",
    "# made in the brackets\n",
    "print(earnings[earnings.Revenue > 40000000000])"
   ]
  },
  {
   "cell_type": "code",
   "execution_count": 5,
   "metadata": {},
   "outputs": [
    {
     "name": "stdout",
     "output_type": "stream",
     "text": [
      "             Revenue     Earnings  year\n",
      "Quarter                                \n",
      "2Q2020   38033000000  11202000000  2020\n",
      "3Q2020   37154000000  13893000000  2020\n",
      "4Q2020   43076000000  15463000000  2020\n",
      "1Q2021   41706000000  15457000000  2021\n"
     ]
    }
   ],
   "source": [
    "# Here, we make a new column with new data \n",
    "earnings[\"year\"] = [2020,2020,2020,2021]\n",
    "print(earnings)"
   ]
  },
  {
   "cell_type": "code",
   "execution_count": 6,
   "metadata": {},
   "outputs": [
    {
     "name": "stdout",
     "output_type": "stream",
     "text": [
      "             Revenue     Earnings  year     Expenses\n",
      "Quarter                                             \n",
      "2Q2020   38033000000  11202000000  2020  26831000000\n",
      "3Q2020   37154000000  13893000000  2020  23261000000\n",
      "4Q2020   43076000000  15463000000  2020  27613000000\n",
      "1Q2021   41706000000  15457000000  2021  26249000000\n"
     ]
    }
   ],
   "source": [
    "# Using pre-existing data to fill in new column we're making \n",
    "earnings[\"Expenses\"] = earnings.Revenue - earnings.Earnings\n",
    "print(earnings)"
   ]
  },
  {
   "cell_type": "code",
   "execution_count": 8,
   "metadata": {},
   "outputs": [
    {
     "name": "stdout",
     "output_type": "stream",
     "text": [
      "                 Rev         Earn  year     Expenses\n",
      "Quarter                                             \n",
      "2Q2020   38033000000  11202000000  2020  26831000000\n",
      "3Q2020   37154000000  13893000000  2020  23261000000\n",
      "4Q2020   43076000000  15463000000  2020  27613000000\n",
      "1Q2021   41706000000  15457000000  2021  26249000000\n"
     ]
    }
   ],
   "source": [
    "# Way of renaming columns (inplace attribute makes it so that it \n",
    "# doesn't create a completely new dataframe)\n",
    "earnings.rename(columns={\n",
    "    \"Revenue\":\"Rev\",\n",
    "    \"Earnings\":\"Earn\"\n",
    "}, inplace=True)\n",
    "print(earnings)"
   ]
  },
  {
   "cell_type": "code",
   "execution_count": 9,
   "metadata": {},
   "outputs": [
    {
     "name": "stdout",
     "output_type": "stream",
     "text": [
      "[100 150 140 125 200 176]\n",
      "<class 'numpy.ndarray'>\n"
     ]
    }
   ],
   "source": [
    "# Utilizing NumPy\n",
    "import numpy as np\n",
    "\n",
    "# Making our own NumPy array\n",
    "prices = np.array([100, 150, 140, 125, 200, 176])\n",
    "print(prices)\n",
    "print(type(prices))"
   ]
  },
  {
   "cell_type": "code",
   "execution_count": 10,
   "metadata": {},
   "outputs": [
    {
     "data": {
      "text/plain": [
       "array([100, 125, 140, 150, 176, 200])"
      ]
     },
     "execution_count": 10,
     "metadata": {},
     "output_type": "execute_result"
    }
   ],
   "source": [
    "# Method to sort our array values \n",
    "np.sort(prices)"
   ]
  },
  {
   "cell_type": "code",
   "execution_count": 11,
   "metadata": {},
   "outputs": [
    {
     "name": "stdout",
     "output_type": "stream",
     "text": [
      "[100 150 140 125 200 176]\n",
      "[ 95  90  85 102  75]\n"
     ]
    }
   ],
   "source": [
    "# Making two different arrays \n",
    "prices_1 = np.array([100, 150, 140, 125, 200, 176])\n",
    "prices_2 = np.array([95, 90, 85, 102, 75])\n",
    "print(prices_1)\n",
    "print(prices_2)"
   ]
  },
  {
   "cell_type": "code",
   "execution_count": 12,
   "metadata": {},
   "outputs": [
    {
     "data": {
      "text/plain": [
       "array([100, 150, 140, 125, 200, 176,  95,  90,  85, 102,  75])"
      ]
     },
     "execution_count": 12,
     "metadata": {},
     "output_type": "execute_result"
    }
   ],
   "source": [
    "# Essentially adding our two arrays with their values together\n",
    "np.concatenate((prices_1, prices_2))"
   ]
  },
  {
   "cell_type": "code",
   "execution_count": 13,
   "metadata": {},
   "outputs": [
    {
     "name": "stdout",
     "output_type": "stream",
     "text": [
      "[100 150 140 125 200 176  95  90  85 102  75]\n",
      "11\n",
      "(11,)\n"
     ]
    }
   ],
   "source": [
    "# Demonstrating different methods to see info about our new array\n",
    "prices_concat = np.concatenate((prices_1, prices_2))\n",
    "print(prices_concat)\n",
    "print(prices_concat.size)\n",
    "print(prices_concat.shape)"
   ]
  },
  {
   "cell_type": "code",
   "execution_count": 15,
   "metadata": {},
   "outputs": [],
   "source": [
    "# Using MatPlotLib to visualize data\n",
    "x = np.linspace(0, 5, 11)\n",
    "y = x ** 2"
   ]
  },
  {
   "cell_type": "code",
   "execution_count": 16,
   "metadata": {},
   "outputs": [
    {
     "data": {
      "text/plain": [
       "array([0. , 0.5, 1. , 1.5, 2. , 2.5, 3. , 3.5, 4. , 4.5, 5. ])"
      ]
     },
     "execution_count": 16,
     "metadata": {},
     "output_type": "execute_result"
    }
   ],
   "source": [
    "x"
   ]
  },
  {
   "cell_type": "code",
   "execution_count": 17,
   "metadata": {},
   "outputs": [
    {
     "data": {
      "text/plain": [
       "array([ 0.  ,  0.25,  1.  ,  2.25,  4.  ,  6.25,  9.  , 12.25, 16.  ,\n",
       "       20.25, 25.  ])"
      ]
     },
     "execution_count": 17,
     "metadata": {},
     "output_type": "execute_result"
    }
   ],
   "source": [
    "y"
   ]
  },
  {
   "cell_type": "code",
   "execution_count": 18,
   "metadata": {},
   "outputs": [
    {
     "data": {
      "image/png": "[encoded data removed]",
      "text/plain": [
       "<Figure size 432x288 with 1 Axes>"
      ]
     },
     "metadata": {
      "needs_background": "light"
     },
     "output_type": "display_data"
    }
   ],
   "source": [
    "# Code to make a simple graph with our x and y arrays\n",
    "import matplotlib.pyplot as plt\n",
    "plt.plot(x, y, 'r') \n",
    "plt.xlabel('X Axis Title Here')\n",
    "plt.ylabel('Y Axis Title Here')\n",
    "plt.title('String Title Here')\n",
    "plt.show()"
   ]
  },
  {
   "cell_type": "code",
   "execution_count": 19,
   "metadata": {},
   "outputs": [
    {
     "data": {
      "text/plain": [
       "Text(0.5, 1.0, 'Set Title')"
      ]
     },
     "execution_count": 19,
     "metadata": {},
     "output_type": "execute_result"
    },
    {
     "data": {
      "image/png": "[encoded data removed]",
      "text/plain": [
       "<Figure size 432x288 with 1 Axes>"
      ]
     },
     "metadata": {
      "needs_background": "light"
     },
     "output_type": "display_data"
    }
   ],
   "source": [
    "# Moreso of an \"object-oriented\" way of creating a graph\n",
    "fig = plt.figure()\n",
    "axes = fig.add_axes([0.1, 0.1, 0.8, 0.8])\n",
    "\n",
    "axes.plot(x, y, 'b')\n",
    "axes.set_xlabel('Set X Label')\n",
    "axes.set_ylabel('Set Y Label')\n",
    "axes.set_title('Set Title')"
   ]
  },
  {
   "cell_type": "code",
   "execution_count": null,
   "metadata": {},
   "outputs": [],
   "source": []
  }
 ],
 "metadata": {
  "kernelspec": {
   "display_name": "Python 3",
   "language": "python",
   "name": "python3"
  },
  "language_info": {
   "codemirror_mode": {
    "name": "ipython",
    "version": 3
   },
   "file_extension": ".py",
   "mimetype": "text/x-python",
   "name": "python",
   "nbconvert_exporter": "python",
   "pygments_lexer": "ipython3",
   "version": "3.7.6"
  }
 },
 "nbformat": 4,
 "nbformat_minor": 4
}
